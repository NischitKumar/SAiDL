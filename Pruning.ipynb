{
 "cells": [
  {
   "cell_type": "markdown",
   "metadata": {
    "id": "H_kdx4V2U0Q0"
   },
   "source": [
    "### Importing Libraries"
   ]
  },
  {
   "cell_type": "code",
   "execution_count": 3,
   "metadata": {
    "id": "aTIWlLvbPcAs"
   },
   "outputs": [
    {
     "data": {
      "text/plain": [
       "<tensorflow.python.eager.context._EagerDeviceContext at 0x108449b00>"
      ]
     },
     "execution_count": 3,
     "metadata": {},
     "output_type": "execute_result"
    }
   ],
   "source": [
    "import tensorflow as tf\n",
    "from keras.layers import Input, Conv2D, Activation, MaxPool2D, BatchNormalization, Flatten, Dense, Dropout\n",
    "from keras.models import Model\n",
    "from keras.optimizers import Adam\n",
    "from keras.utils import to_categorical\n",
    "from keras.datasets import cifar10\n",
    "tf.device(\"/GPU:0\")"
   ]
  },
  {
   "cell_type": "markdown",
   "metadata": {
    "id": "5AxPqlOyU4R0"
   },
   "source": [
    "### Importing The Dataset"
   ]
  },
  {
   "cell_type": "code",
   "execution_count": 5,
   "metadata": {
    "colab": {
     "base_uri": "https://localhost:8080/"
    },
    "id": "U74Ajc-LQC9f",
    "outputId": "cd2b048f-e95a-4a17-9f5f-facd49b7e8f1"
   },
   "outputs": [],
   "source": [
    "(X_train, y_train), (X_val, y_val) = cifar10.load_data()"
   ]
  },
  {
   "cell_type": "markdown",
   "metadata": {
    "id": "Cu6mhqICU65j"
   },
   "source": [
    "### Data Preprocessing"
   ]
  },
  {
   "cell_type": "code",
   "execution_count": 7,
   "metadata": {
    "id": "r8ZDtwV8S3k1"
   },
   "outputs": [],
   "source": [
    "# One-Hot encode the labels\n",
    "y_train = to_categorical(y_train)\n",
    "y_val = to_categorical(y_val)"
   ]
  },
  {
   "cell_type": "markdown",
   "metadata": {
    "id": "0rlt9C7EU-fX"
   },
   "source": [
    "### Building the Model"
   ]
  },
  {
   "cell_type": "code",
   "execution_count": 9,
   "metadata": {
    "id": "1v4LofLkQMdF"
   },
   "outputs": [],
   "source": [
    "input = Input(shape=(32, 32, 3))\n",
    "X = Conv2D(64, (1, 1))(input)\n",
    "X = BatchNormalization()(X)\n",
    "X = Activation(\"relu\")(X)\n",
    "X = Conv2D(64, (3, 3))(X)\n",
    "X = BatchNormalization()(X)\n",
    "X = Activation(\"relu\")(X)\n",
    "X = Conv2D(64, (5, 5))(X)\n",
    "X = BatchNormalization()(X)\n",
    "X = Activation(\"relu\")(X)\n",
    "X = Dropout(0.25)(X)\n",
    "X = MaxPool2D((2,2))(X)\n",
    "\n",
    "X = Conv2D(128, (1, 1))(X)\n",
    "X = BatchNormalization()(X)\n",
    "X = Activation(\"relu\")(X)\n",
    "X = Conv2D(128, (3, 3))(X)\n",
    "X = BatchNormalization()(X)\n",
    "X = Activation(\"relu\")(X)\n",
    "X = Conv2D(128, (5, 5))(X)\n",
    "X = BatchNormalization()(X)\n",
    "X = Activation(\"relu\")(X)\n",
    "X = Dropout(0.25)(X)\n",
    "X = Conv2D(256, (1, 1))(X)\n",
    "X = BatchNormalization()(X)\n",
    "X = Activation(\"relu\")(X)\n",
    "X = Conv2D(256, (3, 3))(X)\n",
    "X = BatchNormalization()(X)\n",
    "X = Activation(\"relu\")(X)\n",
    "X = Conv2D(256, (5, 5))(X)\n",
    "X = BatchNormalization()(X)\n",
    "X = Activation(\"relu\")(X)\n",
    "X = Dropout(0.25)(X)\n",
    "X = Flatten()(X)\n",
    "output = Dense(10, activation=\"softmax\")(X)\n",
    "\n",
    "model = Model(input, output)\n",
    "\n",
    "model.compile(optimizer=Adam(), loss=\"categorical_crossentropy\", metrics=[\"accuracy\"])"
   ]
  },
  {
   "cell_type": "code",
   "execution_count": 10,
   "metadata": {
    "id": "1dFbbNU5UhOP"
   },
   "outputs": [],
   "source": [
    "model.compile(optimizer='adam',\n",
    "              loss='categorical_crossentropy',\n",
    "              metrics=['accuracy'])"
   ]
  },
  {
   "cell_type": "markdown",
   "metadata": {
    "id": "46ha6mO_VIww"
   },
   "source": [
    "### Training The Model"
   ]
  },
  {
   "cell_type": "code",
   "execution_count": 12,
   "metadata": {
    "colab": {
     "base_uri": "https://localhost:8080/"
    },
    "id": "q-Ir4TZqRrlg",
    "outputId": "d83ffbb1-dee5-49e2-bc5f-81759d784ad3"
   },
   "outputs": [
    {
     "name": "stdout",
     "output_type": "stream",
     "text": [
      "Epoch 1/12\n",
      "\u001b[1m782/782\u001b[0m \u001b[32m━━━━━━━━━━━━━━━━━━━━\u001b[0m\u001b[37m\u001b[0m \u001b[1m131s\u001b[0m 166ms/step - accuracy: 0.3958 - loss: 1.6976\n",
      "Epoch 2/12\n",
      "\u001b[1m782/782\u001b[0m \u001b[32m━━━━━━━━━━━━━━━━━━━━\u001b[0m\u001b[37m\u001b[0m \u001b[1m140s\u001b[0m 179ms/step - accuracy: 0.6382 - loss: 1.0319\n",
      "Epoch 3/12\n",
      "\u001b[1m782/782\u001b[0m \u001b[32m━━━━━━━━━━━━━━━━━━━━\u001b[0m\u001b[37m\u001b[0m \u001b[1m141s\u001b[0m 181ms/step - accuracy: 0.7231 - loss: 0.7886\n",
      "Epoch 4/12\n",
      "\u001b[1m782/782\u001b[0m \u001b[32m━━━━━━━━━━━━━━━━━━━━\u001b[0m\u001b[37m\u001b[0m \u001b[1m139s\u001b[0m 178ms/step - accuracy: 0.7740 - loss: 0.6488\n",
      "Epoch 5/12\n",
      "\u001b[1m782/782\u001b[0m \u001b[32m━━━━━━━━━━━━━━━━━━━━\u001b[0m\u001b[37m\u001b[0m \u001b[1m141s\u001b[0m 180ms/step - accuracy: 0.8022 - loss: 0.5699\n",
      "Epoch 6/12\n",
      "\u001b[1m782/782\u001b[0m \u001b[32m━━━━━━━━━━━━━━━━━━━━\u001b[0m\u001b[37m\u001b[0m \u001b[1m138s\u001b[0m 176ms/step - accuracy: 0.8287 - loss: 0.4884\n",
      "Epoch 7/12\n",
      "\u001b[1m782/782\u001b[0m \u001b[32m━━━━━━━━━━━━━━━━━━━━\u001b[0m\u001b[37m\u001b[0m \u001b[1m140s\u001b[0m 180ms/step - accuracy: 0.8530 - loss: 0.4285\n",
      "Epoch 8/12\n",
      "\u001b[1m782/782\u001b[0m \u001b[32m━━━━━━━━━━━━━━━━━━━━\u001b[0m\u001b[37m\u001b[0m \u001b[1m141s\u001b[0m 180ms/step - accuracy: 0.8687 - loss: 0.3798\n",
      "Epoch 9/12\n",
      "\u001b[1m782/782\u001b[0m \u001b[32m━━━━━━━━━━━━━━━━━━━━\u001b[0m\u001b[37m\u001b[0m \u001b[1m139s\u001b[0m 178ms/step - accuracy: 0.8853 - loss: 0.3315\n",
      "Epoch 10/12\n",
      "\u001b[1m782/782\u001b[0m \u001b[32m━━━━━━━━━━━━━━━━━━━━\u001b[0m\u001b[37m\u001b[0m \u001b[1m143s\u001b[0m 183ms/step - accuracy: 0.9018 - loss: 0.2831\n",
      "Epoch 11/12\n",
      "\u001b[1m782/782\u001b[0m \u001b[32m━━━━━━━━━━━━━━━━━━━━\u001b[0m\u001b[37m\u001b[0m \u001b[1m141s\u001b[0m 181ms/step - accuracy: 0.9124 - loss: 0.2487\n",
      "Epoch 12/12\n",
      "\u001b[1m782/782\u001b[0m \u001b[32m━━━━━━━━━━━━━━━━━━━━\u001b[0m\u001b[37m\u001b[0m \u001b[1m142s\u001b[0m 182ms/step - accuracy: 0.9218 - loss: 0.2218\n"
     ]
    }
   ],
   "source": [
    "history = model.fit(X_train, y_train, epochs=12, batch_size=64)"
   ]
  },
  {
   "cell_type": "markdown",
   "metadata": {
    "id": "yJVyrHFpVJ1x"
   },
   "source": [
    "### Predicting Using The Model"
   ]
  },
  {
   "cell_type": "code",
   "execution_count": 22,
   "metadata": {
    "id": "yGYQb8BgRtcs"
   },
   "outputs": [
    {
     "name": "stdout",
     "output_type": "stream",
     "text": [
      "313/313 - 8s - 25ms/step - accuracy: 0.8255 - loss: 0.5957\n",
      "\n",
      "Test accuracy: 0.8255000114440918 \tTest loss: 0.5956794023513794\n"
     ]
    }
   ],
   "source": [
    "test_loss, test_acc = model.evaluate(X_val, y_val, verbose=2)\n",
    "print(\"\\nTest accuracy:\", test_acc, \"\\tTest loss:\", test_loss)"
   ]
  }
 ],
 "metadata": {
  "accelerator": "GPU",
  "colab": {
   "gpuType": "T4",
   "provenance": []
  },
  "kernelspec": {
   "display_name": "Python 3 (ipykernel)",
   "language": "python",
   "name": "python3"
  },
  "language_info": {
   "codemirror_mode": {
    "name": "ipython",
    "version": 3
   },
   "file_extension": ".py",
   "mimetype": "text/x-python",
   "name": "python",
   "nbconvert_exporter": "python",
   "pygments_lexer": "ipython3",
   "version": "3.12.4"
  }
 },
 "nbformat": 4,
 "nbformat_minor": 4
}
